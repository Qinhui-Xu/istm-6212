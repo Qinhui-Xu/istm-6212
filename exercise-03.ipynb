{
 "cells": [
  {
   "cell_type": "markdown",
   "metadata": {
    "nbgrader": {
     "grade": false,
     "solution": false
    }
   },
   "source": [
    "Before you turn this problem in, make sure everything runs as expected. First, **restart the kernel** (in the menubar, select Kernel$\\rightarrow$Restart) and then **run all cells** (in the menubar, select Cell$\\rightarrow$Run All).\n",
    "\n",
    "Make sure you fill in any place that says `YOUR CODE HERE` or \"YOUR ANSWER HERE\", as well as your name and collaborators below:"
   ]
  },
  {
   "cell_type": "code",
   "execution_count": 1,
   "metadata": {
    "collapsed": false,
    "nbgrader": {
     "grade": false,
     "solution": false
    }
   },
   "outputs": [],
   "source": [
    "NAME = \"Qinhui Xu\"\n",
    "COLLABORATORS = \"\""
   ]
  },
  {
   "cell_type": "markdown",
   "metadata": {
    "nbgrader": {
     "grade": false,
     "solution": false
    }
   },
   "source": [
    "---"
   ]
  },
  {
   "cell_type": "markdown",
   "metadata": {},
   "source": [
    "# Exercise 03 - Due Friday, September 30 at 12pm\n",
    "\n",
    "\n",
    "**Objectives**:  Gain experience loading a CSV dataset into a database and using SQL to explore its contents.  Write and execute a number of SQL queries using common syntax and functions.\n",
    "\n",
    "**Grading criteria**: The tasks should all be completed, and questions should all be answered with SQL queries in the space provided, unless a text answer is requested.  Results should be correct, according to the embedded tests.  The notebook itself should be completely reproducible; from start to finish, another person should be able to use the same code to obtain the same results as yours.\n",
    "\n",
    "**Deadline**: Friday, September 30, 12pm.  Submit your notebook to Blackboard and push it to your GitHub repository."
   ]
  },
  {
   "cell_type": "markdown",
   "metadata": {},
   "source": [
    "In this notebook we'll download a clean CSV dataset from data.gov, load it into a SQLite database, and perform a series of queries to answer several questions.  For each problem, write and execute queries that provides the answer in the cells provided, with your SQL queries in the places marked.  For each problem after executing your query, immediately execute the following test cell.  If the tests complete without error, you have completed that question successfully.  If errors arise, you might be missing something.  **Do not change the tests**, just execute them as they are, and update or refine your query until the tests pass.  \n",
    "\n",
    "For this assignment, you need not add narrative description to most of your queries (except where explicitly noted), although you may do so if something you see in the data prompts you.  If you do, add new text cells and use Markdown formatting.\n",
    "\n",
    "**Suggestion**: if you have worked through the [Software Carpentry SQL lessons](http://swcarpentry.github.io/sql-novice-survey/) and have run through the last two lecture notes notebooks, this should all be fairly easy.  If you have done neither, do them now, before you begin."
   ]
  },
  {
   "cell_type": "markdown",
   "metadata": {},
   "source": [
    "## Setup - obtain data and create database\n",
    "\n",
    "The [Connecticut DMV Boating Registrations](http://catalog.data.gov/dataset/dmv-boating-registrations-2008-to-2014) dataset comprises several years of summary records.  It is available from data.gov.\n",
    "\n",
    "First we download the dataset (*note*: it might take several seconds):"
   ]
  },
  {
   "cell_type": "code",
   "execution_count": 2,
   "metadata": {
    "collapsed": false
   },
   "outputs": [],
   "source": [
    "!wget --quiet -O boating.csv \"https://data.ct.gov/api/views/mrb6-7ee5/rows.csv?accessType=DOWNLOAD\""
   ]
  },
  {
   "cell_type": "markdown",
   "metadata": {},
   "source": [
    "Verify that it's what we think it is on the commandline:"
   ]
  },
  {
   "cell_type": "code",
   "execution_count": 3,
   "metadata": {
    "collapsed": false,
    "scrolled": true
   },
   "outputs": [
    {
     "name": "stdout",
     "output_type": "stream",
     "text": [
      "|--------------+-----------------------------+---------------|\r\n",
      "|  Fiscal Year | Type of Transactions        | No .of Boats  |\r\n",
      "|--------------+-----------------------------+---------------|\r\n",
      "|  2008        | BOAT CHANGE OF TYPE         | 59            |\r\n",
      "|  2009        | BOAT CHANGE OF TYPE         | 50            |\r\n",
      "|  2010        | BOAT CHANGE OF TYPE         | 21            |\r\n",
      "|  2011        | BOAT CHANGE OF TYPE         | 41            |\r\n",
      "|  2012        | BOAT CHANGE OF TYPE         | 16            |\r\n",
      "|  2013        | BOAT CHANGE OF TYPE         | 27            |\r\n",
      "|  2014        | BOAT CHANGE OF TYPE         | 54            |\r\n",
      "|  2008        | BOAT RECORD XFER NO PROBATE | 6             |\r\n",
      "|  2009        | BOAT RECORD XFER NO PROBATE | 12            |\r\n",
      "|--------------+-----------------------------+---------------|\r\n"
     ]
    }
   ],
   "source": [
    "!head boating.csv | csvlook"
   ]
  },
  {
   "cell_type": "markdown",
   "metadata": {},
   "source": [
    "Looks right.  How many records are there?"
   ]
  },
  {
   "cell_type": "code",
   "execution_count": 4,
   "metadata": {
    "collapsed": false
   },
   "outputs": [
    {
     "name": "stdout",
     "output_type": "stream",
     "text": [
      "145 boating.csv\r\n"
     ]
    }
   ],
   "source": [
    "!wc -l boating.csv"
   ]
  },
  {
   "cell_type": "markdown",
   "metadata": {},
   "source": [
    "So that should be 145, counting the header.  And the basic stats:"
   ]
  },
  {
   "cell_type": "code",
   "execution_count": 5,
   "metadata": {
    "collapsed": false
   },
   "outputs": [
    {
     "name": "stdout",
     "output_type": "stream",
     "text": [
      "  1. Fiscal Year\r\n",
      "\t<class 'int'>\r\n",
      "\tNulls: False\r\n",
      "\tMin: 2008\r\n",
      "\tMax: 2014\r\n",
      "\tSum: 289578\r\n",
      "\tMean: 2010.9583333333333\r\n",
      "\tMedian: 2011.0\r\n",
      "\tStandard Deviation: 1.9960899278339177\r\n",
      "\tUnique values: 7\r\n",
      "\t5 most frequent values:\r\n",
      "\t\t2009:\t21\r\n",
      "\t\t2010:\t21\r\n",
      "\t\t2008:\t21\r\n",
      "\t\t2011:\t21\r\n",
      "\t\t2013:\t20\r\n",
      "  2. Type of Transactions\r\n",
      "\t<class 'str'>\r\n",
      "\tNulls: False\r\n",
      "\tUnique values: 21\r\n",
      "\t5 most frequent values:\r\n",
      "\t\tBOAT REG, COMM FISHING:\t7\r\n",
      "\t\tBOAT CHANGE OF TYPE:\t7\r\n",
      "\t\tRENEW BOAT USCG AUX EXEMPT:\t7\r\n",
      "\t\tRENEW BOAT EDUCATIONAL:\t7\r\n",
      "\t\tBOAT, REMAINDER FEE:\t7\r\n",
      "\tMax length: 32\r\n",
      "  3. No .of Boats\r\n",
      "\t<class 'int'>\r\n",
      "\tNulls: False\r\n",
      "\tMin: 0\r\n",
      "\tMax: 95270\r\n",
      "\tSum: 767584\r\n",
      "\tMean: 5330.444444444444\r\n",
      "\tMedian: 43.5\r\n",
      "\tStandard Deviation: 19683.78413284855\r\n",
      "\tUnique values: 96\r\n",
      "\t5 most frequent values:\r\n",
      "\t\t2:\t9\r\n",
      "\t\t21:\t4\r\n",
      "\t\t1:\t4\r\n",
      "\t\t0:\t4\r\n",
      "\t\t16:\t4\r\n",
      "\r\n",
      "Row count: 144\r\n"
     ]
    }
   ],
   "source": [
    "!csvstat boating.csv"
   ]
  },
  {
   "cell_type": "markdown",
   "metadata": {
    "nbgrader": {
     "grade": false,
     "locked": false,
     "solution": false
    }
   },
   "source": [
    "Looks about right!  \n",
    "\n",
    "Note, though, that the column names have spaces, punctuation, and Upper Cased Names.  That's annoying!  First let's rename the header line."
   ]
  },
  {
   "cell_type": "code",
   "execution_count": 6,
   "metadata": {
    "collapsed": false
   },
   "outputs": [],
   "source": [
    "!mv boating.csv boating-orig.csv"
   ]
  },
  {
   "cell_type": "markdown",
   "metadata": {},
   "source": [
    "Okay, using output redirection and `tail` we can write a new header line."
   ]
  },
  {
   "cell_type": "code",
   "execution_count": 7,
   "metadata": {
    "collapsed": true
   },
   "outputs": [],
   "source": [
    "!echo \"year,tx_type,num\" > boating.csv"
   ]
  },
  {
   "cell_type": "code",
   "execution_count": 8,
   "metadata": {
    "collapsed": true
   },
   "outputs": [],
   "source": [
    "!tail -n +2 boating-orig.csv >> boating.csv"
   ]
  },
  {
   "cell_type": "code",
   "execution_count": 9,
   "metadata": {
    "collapsed": false
   },
   "outputs": [
    {
     "name": "stdout",
     "output_type": "stream",
     "text": [
      "|-------+-----------------------------+------|\r\n",
      "|  year | tx_type                     | num  |\r\n",
      "|-------+-----------------------------+------|\r\n",
      "|  2008 | BOAT CHANGE OF TYPE         | 59   |\r\n",
      "|  2009 | BOAT CHANGE OF TYPE         | 50   |\r\n",
      "|  2010 | BOAT CHANGE OF TYPE         | 21   |\r\n",
      "|  2011 | BOAT CHANGE OF TYPE         | 41   |\r\n",
      "|  2012 | BOAT CHANGE OF TYPE         | 16   |\r\n",
      "|  2013 | BOAT CHANGE OF TYPE         | 27   |\r\n",
      "|  2014 | BOAT CHANGE OF TYPE         | 54   |\r\n",
      "|  2008 | BOAT RECORD XFER NO PROBATE | 6    |\r\n",
      "|  2009 | BOAT RECORD XFER NO PROBATE | 12   |\r\n",
      "|-------+-----------------------------+------|\r\n"
     ]
    }
   ],
   "source": [
    "!head boating.csv | csvlook"
   ]
  },
  {
   "cell_type": "markdown",
   "metadata": {},
   "source": [
    "Much easier to work with now."
   ]
  },
  {
   "cell_type": "markdown",
   "metadata": {},
   "source": [
    "Next we convert the updated csv file into a SQLite database using CSVkit."
   ]
  },
  {
   "cell_type": "code",
   "execution_count": 10,
   "metadata": {
    "collapsed": false
   },
   "outputs": [
    {
     "name": "stdout",
     "output_type": "stream",
     "text": [
      "(sqlite3.OperationalError) table boating already exists [SQL: '\\nCREATE TABLE boating (\\n\\tyear INTEGER NOT NULL, \\n\\ttx_type VARCHAR(32) NOT NULL, \\n\\tnum INTEGER NOT NULL\\n)\\n\\n']\r\n"
     ]
    }
   ],
   "source": [
    "!csvsql --db sqlite:///boating.db --insert boating.csv"
   ]
  },
  {
   "cell_type": "markdown",
   "metadata": {},
   "source": [
    "To work with it, we'll need the ipython-sql extension loaded, and then we'll need to connect to the db."
   ]
  },
  {
   "cell_type": "code",
   "execution_count": 11,
   "metadata": {
    "collapsed": false
   },
   "outputs": [
    {
     "name": "stderr",
     "output_type": "stream",
     "text": [
      "/home/xqh/.local/lib/python3.5/site-packages/IPython/config.py:13: ShimWarning: The `IPython.config` package has been deprecated. You should import from traitlets.config instead.\n",
      "  \"You should import from traitlets.config instead.\", ShimWarning)\n",
      "/home/xqh/.local/lib/python3.5/site-packages/IPython/utils/traitlets.py:5: UserWarning: IPython.utils.traitlets has moved to a top-level traitlets package.\n",
      "  warn(\"IPython.utils.traitlets has moved to a top-level traitlets package.\")\n"
     ]
    }
   ],
   "source": [
    "%load_ext sql"
   ]
  },
  {
   "cell_type": "markdown",
   "metadata": {},
   "source": [
    "**Note** if you see a pink box above with six lines of \"ShimWarning\" and \"UserWarning\", don't panic.  This is just a warning message from the `ipython-sql` package.  You are good to go."
   ]
  },
  {
   "cell_type": "code",
   "execution_count": 12,
   "metadata": {
    "collapsed": false
   },
   "outputs": [
    {
     "data": {
      "text/plain": [
       "'Connected: None@boating.db'"
      ]
     },
     "execution_count": 12,
     "metadata": {},
     "output_type": "execute_result"
    }
   ],
   "source": [
    "%sql sqlite:///boating.db"
   ]
  },
  {
   "cell_type": "code",
   "execution_count": 13,
   "metadata": {
    "collapsed": false
   },
   "outputs": [
    {
     "name": "stdout",
     "output_type": "stream",
     "text": [
      "Done.\n"
     ]
    },
    {
     "data": {
      "text/html": [
       "<table>\n",
       "    <tr>\n",
       "        <th>COUNT(*)</th>\n",
       "    </tr>\n",
       "    <tr>\n",
       "        <td>144</td>\n",
       "    </tr>\n",
       "</table>"
      ],
      "text/plain": [
       "[(144,)]"
      ]
     },
     "execution_count": 13,
     "metadata": {},
     "output_type": "execute_result"
    }
   ],
   "source": [
    "%%sql\n",
    "SELECT COUNT(*)\n",
    "FROM boating;"
   ]
  },
  {
   "cell_type": "markdown",
   "metadata": {},
   "source": [
    "Looks like the same number of rows!  We're good to go."
   ]
  },
  {
   "cell_type": "markdown",
   "metadata": {},
   "source": [
    "## Basic queries\n",
    "\n",
    "In the following queries, we'll do some basic exploration of the data.  Let's first see what a few records look like."
   ]
  },
  {
   "cell_type": "code",
   "execution_count": 14,
   "metadata": {
    "collapsed": false
   },
   "outputs": [
    {
     "name": "stdout",
     "output_type": "stream",
     "text": [
      "Done.\n"
     ]
    },
    {
     "data": {
      "text/html": [
       "<table>\n",
       "    <tr>\n",
       "        <th>year</th>\n",
       "        <th>tx_type</th>\n",
       "        <th>num</th>\n",
       "    </tr>\n",
       "    <tr>\n",
       "        <td>2008</td>\n",
       "        <td>BOAT CHANGE OF TYPE</td>\n",
       "        <td>59</td>\n",
       "    </tr>\n",
       "    <tr>\n",
       "        <td>2009</td>\n",
       "        <td>BOAT CHANGE OF TYPE</td>\n",
       "        <td>50</td>\n",
       "    </tr>\n",
       "    <tr>\n",
       "        <td>2010</td>\n",
       "        <td>BOAT CHANGE OF TYPE</td>\n",
       "        <td>21</td>\n",
       "    </tr>\n",
       "    <tr>\n",
       "        <td>2011</td>\n",
       "        <td>BOAT CHANGE OF TYPE</td>\n",
       "        <td>41</td>\n",
       "    </tr>\n",
       "    <tr>\n",
       "        <td>2012</td>\n",
       "        <td>BOAT CHANGE OF TYPE</td>\n",
       "        <td>16</td>\n",
       "    </tr>\n",
       "    <tr>\n",
       "        <td>2013</td>\n",
       "        <td>BOAT CHANGE OF TYPE</td>\n",
       "        <td>27</td>\n",
       "    </tr>\n",
       "    <tr>\n",
       "        <td>2014</td>\n",
       "        <td>BOAT CHANGE OF TYPE</td>\n",
       "        <td>54</td>\n",
       "    </tr>\n",
       "    <tr>\n",
       "        <td>2008</td>\n",
       "        <td>BOAT RECORD XFER NO PROBATE</td>\n",
       "        <td>6</td>\n",
       "    </tr>\n",
       "    <tr>\n",
       "        <td>2009</td>\n",
       "        <td>BOAT RECORD XFER NO PROBATE</td>\n",
       "        <td>12</td>\n",
       "    </tr>\n",
       "    <tr>\n",
       "        <td>2010</td>\n",
       "        <td>BOAT RECORD XFER NO PROBATE</td>\n",
       "        <td>15</td>\n",
       "    </tr>\n",
       "</table>"
      ],
      "text/plain": [
       "[(2008, 'BOAT CHANGE OF TYPE', 59),\n",
       " (2009, 'BOAT CHANGE OF TYPE', 50),\n",
       " (2010, 'BOAT CHANGE OF TYPE', 21),\n",
       " (2011, 'BOAT CHANGE OF TYPE', 41),\n",
       " (2012, 'BOAT CHANGE OF TYPE', 16),\n",
       " (2013, 'BOAT CHANGE OF TYPE', 27),\n",
       " (2014, 'BOAT CHANGE OF TYPE', 54),\n",
       " (2008, 'BOAT RECORD XFER NO PROBATE', 6),\n",
       " (2009, 'BOAT RECORD XFER NO PROBATE', 12),\n",
       " (2010, 'BOAT RECORD XFER NO PROBATE', 15)]"
      ]
     },
     "execution_count": 14,
     "metadata": {},
     "output_type": "execute_result"
    }
   ],
   "source": [
    "%%sql\n",
    "SELECT *\n",
    "FROM boating\n",
    "LIMIT 10;"
   ]
  },
  {
   "cell_type": "markdown",
   "metadata": {},
   "source": [
    "This should look familiar!\n",
    "\n",
    "Let's look at just the \"change\" types."
   ]
  },
  {
   "cell_type": "code",
   "execution_count": 15,
   "metadata": {
    "collapsed": false
   },
   "outputs": [
    {
     "name": "stdout",
     "output_type": "stream",
     "text": [
      "Done.\n"
     ]
    },
    {
     "data": {
      "text/html": [
       "<table>\n",
       "    <tr>\n",
       "        <th>year</th>\n",
       "        <th>tx_type</th>\n",
       "        <th>num</th>\n",
       "    </tr>\n",
       "    <tr>\n",
       "        <td>2008</td>\n",
       "        <td>BOAT CHANGE OF TYPE</td>\n",
       "        <td>59</td>\n",
       "    </tr>\n",
       "    <tr>\n",
       "        <td>2009</td>\n",
       "        <td>BOAT CHANGE OF TYPE</td>\n",
       "        <td>50</td>\n",
       "    </tr>\n",
       "    <tr>\n",
       "        <td>2010</td>\n",
       "        <td>BOAT CHANGE OF TYPE</td>\n",
       "        <td>21</td>\n",
       "    </tr>\n",
       "    <tr>\n",
       "        <td>2011</td>\n",
       "        <td>BOAT CHANGE OF TYPE</td>\n",
       "        <td>41</td>\n",
       "    </tr>\n",
       "    <tr>\n",
       "        <td>2012</td>\n",
       "        <td>BOAT CHANGE OF TYPE</td>\n",
       "        <td>16</td>\n",
       "    </tr>\n",
       "    <tr>\n",
       "        <td>2013</td>\n",
       "        <td>BOAT CHANGE OF TYPE</td>\n",
       "        <td>27</td>\n",
       "    </tr>\n",
       "    <tr>\n",
       "        <td>2014</td>\n",
       "        <td>BOAT CHANGE OF TYPE</td>\n",
       "        <td>54</td>\n",
       "    </tr>\n",
       "</table>"
      ],
      "text/plain": [
       "[(2008, 'BOAT CHANGE OF TYPE', 59),\n",
       " (2009, 'BOAT CHANGE OF TYPE', 50),\n",
       " (2010, 'BOAT CHANGE OF TYPE', 21),\n",
       " (2011, 'BOAT CHANGE OF TYPE', 41),\n",
       " (2012, 'BOAT CHANGE OF TYPE', 16),\n",
       " (2013, 'BOAT CHANGE OF TYPE', 27),\n",
       " (2014, 'BOAT CHANGE OF TYPE', 54)]"
      ]
     },
     "execution_count": 15,
     "metadata": {},
     "output_type": "execute_result"
    }
   ],
   "source": [
    "%%sql\n",
    "SELECT *\n",
    "FROM boating\n",
    "WHERE tx_type = \"BOAT CHANGE OF TYPE\";"
   ]
  },
  {
   "cell_type": "markdown",
   "metadata": {},
   "source": [
    "How many is that, and which year had the most?"
   ]
  },
  {
   "cell_type": "code",
   "execution_count": 16,
   "metadata": {
    "collapsed": false
   },
   "outputs": [
    {
     "name": "stdout",
     "output_type": "stream",
     "text": [
      "Done.\n"
     ]
    },
    {
     "data": {
      "text/html": [
       "<table>\n",
       "    <tr>\n",
       "        <th>COUNT(*)</th>\n",
       "    </tr>\n",
       "    <tr>\n",
       "        <td>7</td>\n",
       "    </tr>\n",
       "</table>"
      ],
      "text/plain": [
       "[(7,)]"
      ]
     },
     "execution_count": 16,
     "metadata": {},
     "output_type": "execute_result"
    }
   ],
   "source": [
    "%%sql\n",
    "SELECT COUNT(*)\n",
    "FROM boating\n",
    "WHERE tx_type = \"BOAT CHANGE OF TYPE\";"
   ]
  },
  {
   "cell_type": "markdown",
   "metadata": {},
   "source": [
    "Which year had the most of these transactions?"
   ]
  },
  {
   "cell_type": "code",
   "execution_count": 17,
   "metadata": {
    "collapsed": false
   },
   "outputs": [
    {
     "name": "stdout",
     "output_type": "stream",
     "text": [
      "Done.\n"
     ]
    },
    {
     "data": {
      "text/html": [
       "<table>\n",
       "    <tr>\n",
       "        <th>year</th>\n",
       "        <th>tx_type</th>\n",
       "        <th>num</th>\n",
       "    </tr>\n",
       "    <tr>\n",
       "        <td>2008</td>\n",
       "        <td>BOAT CHANGE OF TYPE</td>\n",
       "        <td>59</td>\n",
       "    </tr>\n",
       "    <tr>\n",
       "        <td>2014</td>\n",
       "        <td>BOAT CHANGE OF TYPE</td>\n",
       "        <td>54</td>\n",
       "    </tr>\n",
       "    <tr>\n",
       "        <td>2009</td>\n",
       "        <td>BOAT CHANGE OF TYPE</td>\n",
       "        <td>50</td>\n",
       "    </tr>\n",
       "    <tr>\n",
       "        <td>2011</td>\n",
       "        <td>BOAT CHANGE OF TYPE</td>\n",
       "        <td>41</td>\n",
       "    </tr>\n",
       "    <tr>\n",
       "        <td>2013</td>\n",
       "        <td>BOAT CHANGE OF TYPE</td>\n",
       "        <td>27</td>\n",
       "    </tr>\n",
       "    <tr>\n",
       "        <td>2010</td>\n",
       "        <td>BOAT CHANGE OF TYPE</td>\n",
       "        <td>21</td>\n",
       "    </tr>\n",
       "    <tr>\n",
       "        <td>2012</td>\n",
       "        <td>BOAT CHANGE OF TYPE</td>\n",
       "        <td>16</td>\n",
       "    </tr>\n",
       "</table>"
      ],
      "text/plain": [
       "[(2008, 'BOAT CHANGE OF TYPE', 59),\n",
       " (2014, 'BOAT CHANGE OF TYPE', 54),\n",
       " (2009, 'BOAT CHANGE OF TYPE', 50),\n",
       " (2011, 'BOAT CHANGE OF TYPE', 41),\n",
       " (2013, 'BOAT CHANGE OF TYPE', 27),\n",
       " (2010, 'BOAT CHANGE OF TYPE', 21),\n",
       " (2012, 'BOAT CHANGE OF TYPE', 16)]"
      ]
     },
     "execution_count": 17,
     "metadata": {},
     "output_type": "execute_result"
    }
   ],
   "source": [
    "%%sql\n",
    "SELECT *\n",
    "FROM boating\n",
    "WHERE tx_type = \"BOAT CHANGE OF TYPE\"\n",
    "ORDER BY num DESC;"
   ]
  },
  {
   "cell_type": "markdown",
   "metadata": {},
   "source": [
    "...alright, your turn.\n",
    "\n",
    "### Question 1\n",
    "\n",
    "Use `DISTINCT` to determine the unique set of years in this dataset."
   ]
  },
  {
   "cell_type": "code",
   "execution_count": 18,
   "metadata": {
    "collapsed": false,
    "deletable": false,
    "nbgrader": {
     "checksum": "e695d6714d4f230a64f7fe7ac54e6dc0",
     "grade": false,
     "grade_id": "10",
     "locked": false,
     "solution": true
    }
   },
   "outputs": [
    {
     "name": "stdout",
     "output_type": "stream",
     "text": [
      "Done.\n"
     ]
    },
    {
     "data": {
      "text/html": [
       "<table>\n",
       "    <tr>\n",
       "        <th>year</th>\n",
       "    </tr>\n",
       "    <tr>\n",
       "        <td>2008</td>\n",
       "    </tr>\n",
       "    <tr>\n",
       "        <td>2009</td>\n",
       "    </tr>\n",
       "    <tr>\n",
       "        <td>2010</td>\n",
       "    </tr>\n",
       "    <tr>\n",
       "        <td>2011</td>\n",
       "    </tr>\n",
       "    <tr>\n",
       "        <td>2012</td>\n",
       "    </tr>\n",
       "    <tr>\n",
       "        <td>2013</td>\n",
       "    </tr>\n",
       "    <tr>\n",
       "        <td>2014</td>\n",
       "    </tr>\n",
       "</table>"
      ],
      "text/plain": [
       "[(2008,), (2009,), (2010,), (2011,), (2012,), (2013,), (2014,)]"
      ]
     },
     "execution_count": 18,
     "metadata": {},
     "output_type": "execute_result"
    }
   ],
   "source": [
    "%%sql\n",
    "SELECT DISTINCT year\n",
    "FROM boating"
   ]
  },
  {
   "cell_type": "code",
   "execution_count": 19,
   "metadata": {
    "collapsed": false,
    "deletable": false,
    "nbgrader": {
     "checksum": "5d64ab8d4b4a37cf5877c3da7e7cb2a4",
     "grade": true,
     "grade_id": "1010",
     "locked": true,
     "points": 1,
     "solution": false
    }
   },
   "outputs": [],
   "source": [
    "df = _.DataFrame()\n",
    "for y in [2008, 2009, 2010, 2011, 2012, 2013, 2014]:\n",
    "    assert y in df.year.values\n",
    "assert len(df) == 7"
   ]
  },
  {
   "cell_type": "markdown",
   "metadata": {},
   "source": [
    "### Question 2\n",
    "\n",
    "Use `DISTINCT` to determine the unique set of transaction types in this dataset."
   ]
  },
  {
   "cell_type": "code",
   "execution_count": 20,
   "metadata": {
    "collapsed": false,
    "deletable": false,
    "nbgrader": {
     "checksum": "c42f6a3001d94856f50f32143a1645c2",
     "grade": false,
     "grade_id": "20",
     "locked": false,
     "solution": true
    }
   },
   "outputs": [
    {
     "name": "stdout",
     "output_type": "stream",
     "text": [
      "Done.\n"
     ]
    },
    {
     "data": {
      "text/html": [
       "<table>\n",
       "    <tr>\n",
       "        <th>tx_type</th>\n",
       "    </tr>\n",
       "    <tr>\n",
       "        <td>BOAT CHANGE OF TYPE</td>\n",
       "    </tr>\n",
       "    <tr>\n",
       "        <td>BOAT RECORD XFER NO PROBATE</td>\n",
       "    </tr>\n",
       "    <tr>\n",
       "        <td>BOAT REG ST OF CONNECTICUT</td>\n",
       "    </tr>\n",
       "    <tr>\n",
       "        <td>BOAT REG, CANOE</td>\n",
       "    </tr>\n",
       "    <tr>\n",
       "        <td>BOAT REG, COMM FISHING</td>\n",
       "    </tr>\n",
       "    <tr>\n",
       "        <td>BOAT REG, EDUCATIONAL</td>\n",
       "    </tr>\n",
       "    <tr>\n",
       "        <td>BOAT REG, NEW</td>\n",
       "    </tr>\n",
       "    <tr>\n",
       "        <td>BOAT REG, NON-PROFIT</td>\n",
       "    </tr>\n",
       "    <tr>\n",
       "        <td>BOAT REG, PONTOON</td>\n",
       "    </tr>\n",
       "    <tr>\n",
       "        <td>BOAT, DUPLICATE REGISTRATION</td>\n",
       "    </tr>\n",
       "    <tr>\n",
       "        <td>BOAT, REMAINDER FEE</td>\n",
       "    </tr>\n",
       "    <tr>\n",
       "        <td>NEW BOAT MILTRY PERSONNEL EXEMPT</td>\n",
       "    </tr>\n",
       "    <tr>\n",
       "        <td>REN BOAT PONTOON</td>\n",
       "    </tr>\n",
       "    <tr>\n",
       "        <td>REN BOAT REGISTRATION</td>\n",
       "    </tr>\n",
       "    <tr>\n",
       "        <td>RENEW BOAT CANOE</td>\n",
       "    </tr>\n",
       "    <tr>\n",
       "        <td>RENEW BOAT COMM FISHING</td>\n",
       "    </tr>\n",
       "    <tr>\n",
       "        <td>RENEW BOAT EDUCATIONAL</td>\n",
       "    </tr>\n",
       "    <tr>\n",
       "        <td>RENEW BOAT FLOTILLA</td>\n",
       "    </tr>\n",
       "    <tr>\n",
       "        <td>RENEW BOAT MILTRY PERSONNEL EXMP</td>\n",
       "    </tr>\n",
       "    <tr>\n",
       "        <td>RENEW BOAT NON-PROFIT</td>\n",
       "    </tr>\n",
       "    <tr>\n",
       "        <td>RENEW BOAT USCG AUX EXEMPT</td>\n",
       "    </tr>\n",
       "</table>"
      ],
      "text/plain": [
       "[('BOAT CHANGE OF TYPE',),\n",
       " ('BOAT RECORD XFER NO PROBATE',),\n",
       " ('BOAT REG ST OF CONNECTICUT',),\n",
       " ('BOAT REG, CANOE',),\n",
       " ('BOAT REG, COMM FISHING',),\n",
       " ('BOAT REG, EDUCATIONAL',),\n",
       " ('BOAT REG, NEW',),\n",
       " ('BOAT REG, NON-PROFIT',),\n",
       " ('BOAT REG, PONTOON',),\n",
       " ('BOAT, DUPLICATE REGISTRATION',),\n",
       " ('BOAT, REMAINDER FEE',),\n",
       " ('NEW BOAT MILTRY PERSONNEL EXEMPT',),\n",
       " ('REN BOAT PONTOON',),\n",
       " ('REN BOAT REGISTRATION',),\n",
       " ('RENEW BOAT CANOE',),\n",
       " ('RENEW BOAT COMM FISHING',),\n",
       " ('RENEW BOAT EDUCATIONAL',),\n",
       " ('RENEW BOAT FLOTILLA',),\n",
       " ('RENEW BOAT MILTRY PERSONNEL EXMP',),\n",
       " ('RENEW BOAT NON-PROFIT',),\n",
       " ('RENEW BOAT USCG AUX EXEMPT',)]"
      ]
     },
     "execution_count": 20,
     "metadata": {},
     "output_type": "execute_result"
    }
   ],
   "source": [
    "%%sql\n",
    "SELECT DISTINCT tx_type\n",
    "FROM boating"
   ]
  },
  {
   "cell_type": "code",
   "execution_count": 21,
   "metadata": {
    "collapsed": false,
    "deletable": false,
    "nbgrader": {
     "checksum": "5774693c8e6d582da78be8d8fc6a78e9",
     "grade": true,
     "grade_id": "1020",
     "locked": true,
     "points": 1,
     "solution": false
    }
   },
   "outputs": [],
   "source": [
    "df = _.DataFrame()\n",
    "assert len(df) == 21\n",
    "for tx_type in [\"BOAT, DUPLICATE REGISTRATION\", \"REN BOAT PONTOON\", \"BOAT REG, CANOE\"]:\n",
    "    assert tx_type in df.tx_type.values"
   ]
  },
  {
   "cell_type": "markdown",
   "metadata": {},
   "source": [
    "### Question 3\n",
    "\n",
    "Use `GROUP BY` to determine the overall number of transactions (across all types) per year."
   ]
  },
  {
   "cell_type": "code",
   "execution_count": 22,
   "metadata": {
    "collapsed": false,
    "deletable": false,
    "nbgrader": {
     "checksum": "7fa88d8b2b8f51b7e2d06508cc895082",
     "grade": false,
     "grade_id": "30",
     "locked": false,
     "solution": true
    }
   },
   "outputs": [
    {
     "name": "stdout",
     "output_type": "stream",
     "text": [
      "Done.\n"
     ]
    },
    {
     "data": {
      "text/html": [
       "<table>\n",
       "    <tr>\n",
       "        <th>year</th>\n",
       "        <th>count</th>\n",
       "    </tr>\n",
       "    <tr>\n",
       "        <td>2008</td>\n",
       "        <td>21</td>\n",
       "    </tr>\n",
       "    <tr>\n",
       "        <td>2009</td>\n",
       "        <td>21</td>\n",
       "    </tr>\n",
       "    <tr>\n",
       "        <td>2010</td>\n",
       "        <td>21</td>\n",
       "    </tr>\n",
       "    <tr>\n",
       "        <td>2011</td>\n",
       "        <td>21</td>\n",
       "    </tr>\n",
       "    <tr>\n",
       "        <td>2012</td>\n",
       "        <td>20</td>\n",
       "    </tr>\n",
       "    <tr>\n",
       "        <td>2013</td>\n",
       "        <td>20</td>\n",
       "    </tr>\n",
       "    <tr>\n",
       "        <td>2014</td>\n",
       "        <td>20</td>\n",
       "    </tr>\n",
       "</table>"
      ],
      "text/plain": [
       "[(2008, 21),\n",
       " (2009, 21),\n",
       " (2010, 21),\n",
       " (2011, 21),\n",
       " (2012, 20),\n",
       " (2013, 20),\n",
       " (2014, 20)]"
      ]
     },
     "execution_count": 22,
     "metadata": {},
     "output_type": "execute_result"
    }
   ],
   "source": [
    "%%sql\n",
    "SELECT year,COUNT(tx_type) as count\n",
    "FROM boating\n",
    "GROUP BY year"
   ]
  },
  {
   "cell_type": "code",
   "execution_count": 23,
   "metadata": {
    "collapsed": false,
    "deletable": false,
    "nbgrader": {
     "checksum": "b781fbe4a2da0f86f359d07ff0a21ffb",
     "grade": true,
     "grade_id": "1030",
     "locked": true,
     "points": 1,
     "solution": false
    }
   },
   "outputs": [],
   "source": [
    "df = _.DataFrame()\n",
    "df.rename(columns=lambda x: \"year\" if x == \"year\" else \"count\", inplace=True)\n",
    "assert (df.loc[df['year'] == 2009]['count'] == 21).all()\n",
    "assert (df.loc[df['year'] == 2013]['count'] == 20).all()"
   ]
  },
  {
   "cell_type": "markdown",
   "metadata": {},
   "source": [
    "### Question 4\n",
    "\n",
    "Use `SUM` and `GROUP BY` to determine the overall number of transactions (across all years) per type."
   ]
  },
  {
   "cell_type": "code",
   "execution_count": 24,
   "metadata": {
    "collapsed": false,
    "deletable": false,
    "nbgrader": {
     "checksum": "eebfff56ecce6571e4558b1033ef12a0",
     "grade": false,
     "grade_id": "40",
     "locked": false,
     "solution": true
    }
   },
   "outputs": [
    {
     "name": "stdout",
     "output_type": "stream",
     "text": [
      "Done.\n"
     ]
    },
    {
     "data": {
      "text/html": [
       "<table>\n",
       "    <tr>\n",
       "        <th>tx_type</th>\n",
       "        <th>SUM(num)</th>\n",
       "    </tr>\n",
       "    <tr>\n",
       "        <td>BOAT CHANGE OF TYPE</td>\n",
       "        <td>268</td>\n",
       "    </tr>\n",
       "    <tr>\n",
       "        <td>BOAT RECORD XFER NO PROBATE</td>\n",
       "        <td>105</td>\n",
       "    </tr>\n",
       "    <tr>\n",
       "        <td>BOAT REG ST OF CONNECTICUT</td>\n",
       "        <td>159</td>\n",
       "    </tr>\n",
       "    <tr>\n",
       "        <td>BOAT REG, CANOE</td>\n",
       "        <td>1129</td>\n",
       "    </tr>\n",
       "    <tr>\n",
       "        <td>BOAT REG, COMM FISHING</td>\n",
       "        <td>114</td>\n",
       "    </tr>\n",
       "    <tr>\n",
       "        <td>BOAT REG, EDUCATIONAL</td>\n",
       "        <td>15</td>\n",
       "    </tr>\n",
       "    <tr>\n",
       "        <td>BOAT REG, NEW</td>\n",
       "        <td>86821</td>\n",
       "    </tr>\n",
       "    <tr>\n",
       "        <td>BOAT REG, NON-PROFIT</td>\n",
       "        <td>106</td>\n",
       "    </tr>\n",
       "    <tr>\n",
       "        <td>BOAT REG, PONTOON</td>\n",
       "        <td>2241</td>\n",
       "    </tr>\n",
       "    <tr>\n",
       "        <td>BOAT, DUPLICATE REGISTRATION</td>\n",
       "        <td>2390</td>\n",
       "    </tr>\n",
       "    <tr>\n",
       "        <td>BOAT, REMAINDER FEE</td>\n",
       "        <td>1043</td>\n",
       "    </tr>\n",
       "    <tr>\n",
       "        <td>NEW BOAT MILTRY PERSONNEL EXEMPT</td>\n",
       "        <td>251</td>\n",
       "    </tr>\n",
       "    <tr>\n",
       "        <td>REN BOAT PONTOON</td>\n",
       "        <td>15556</td>\n",
       "    </tr>\n",
       "    <tr>\n",
       "        <td>REN BOAT REGISTRATION</td>\n",
       "        <td>640790</td>\n",
       "    </tr>\n",
       "    <tr>\n",
       "        <td>RENEW BOAT CANOE</td>\n",
       "        <td>14551</td>\n",
       "    </tr>\n",
       "    <tr>\n",
       "        <td>RENEW BOAT COMM FISHING</td>\n",
       "        <td>1244</td>\n",
       "    </tr>\n",
       "    <tr>\n",
       "        <td>RENEW BOAT EDUCATIONAL</td>\n",
       "        <td>16</td>\n",
       "    </tr>\n",
       "    <tr>\n",
       "        <td>RENEW BOAT FLOTILLA</td>\n",
       "        <td>8</td>\n",
       "    </tr>\n",
       "    <tr>\n",
       "        <td>RENEW BOAT MILTRY PERSONNEL EXMP</td>\n",
       "        <td>507</td>\n",
       "    </tr>\n",
       "    <tr>\n",
       "        <td>RENEW BOAT NON-PROFIT</td>\n",
       "        <td>131</td>\n",
       "    </tr>\n",
       "    <tr>\n",
       "        <td>RENEW BOAT USCG AUX EXEMPT</td>\n",
       "        <td>139</td>\n",
       "    </tr>\n",
       "</table>"
      ],
      "text/plain": [
       "[('BOAT CHANGE OF TYPE', 268),\n",
       " ('BOAT RECORD XFER NO PROBATE', 105),\n",
       " ('BOAT REG ST OF CONNECTICUT', 159),\n",
       " ('BOAT REG, CANOE', 1129),\n",
       " ('BOAT REG, COMM FISHING', 114),\n",
       " ('BOAT REG, EDUCATIONAL', 15),\n",
       " ('BOAT REG, NEW', 86821),\n",
       " ('BOAT REG, NON-PROFIT', 106),\n",
       " ('BOAT REG, PONTOON', 2241),\n",
       " ('BOAT, DUPLICATE REGISTRATION', 2390),\n",
       " ('BOAT, REMAINDER FEE', 1043),\n",
       " ('NEW BOAT MILTRY PERSONNEL EXEMPT', 251),\n",
       " ('REN BOAT PONTOON', 15556),\n",
       " ('REN BOAT REGISTRATION', 640790),\n",
       " ('RENEW BOAT CANOE', 14551),\n",
       " ('RENEW BOAT COMM FISHING', 1244),\n",
       " ('RENEW BOAT EDUCATIONAL', 16),\n",
       " ('RENEW BOAT FLOTILLA', 8),\n",
       " ('RENEW BOAT MILTRY PERSONNEL EXMP', 507),\n",
       " ('RENEW BOAT NON-PROFIT', 131),\n",
       " ('RENEW BOAT USCG AUX EXEMPT', 139)]"
      ]
     },
     "execution_count": 24,
     "metadata": {},
     "output_type": "execute_result"
    }
   ],
   "source": [
    "%%sql\n",
    "SELECT tx_type, SUM(num)\n",
    "FROM boating\n",
    "GROUP BY tx_type"
   ]
  },
  {
   "cell_type": "code",
   "execution_count": 25,
   "metadata": {
    "collapsed": true,
    "deletable": false,
    "nbgrader": {
     "checksum": "7bb8c1abe4e33b67fb110e0c3ddb24d7",
     "grade": true,
     "grade_id": "1040",
     "locked": true,
     "points": 1,
     "solution": false
    }
   },
   "outputs": [],
   "source": [
    "df = _.DataFrame()\n",
    "df.rename(columns=lambda x: \"tx_type\" if x == \"tx_type\" else \"sum\", inplace=True)\n",
    "assert (df.loc[df['tx_type'] == \"BOAT REG, CANOE\"]['sum'] == 1129).all()\n",
    "assert (df.loc[df['tx_type'] == \"REN BOAT REGISTRATION\"]['sum'] == 640790).all()"
   ]
  },
  {
   "cell_type": "markdown",
   "metadata": {},
   "source": [
    "### Question 5\n",
    "\n",
    "Use `ORDER BY` and `LIMIT` to determine the top five types of transactions overall."
   ]
  },
  {
   "cell_type": "code",
   "execution_count": 26,
   "metadata": {
    "collapsed": false,
    "deletable": false,
    "nbgrader": {
     "checksum": "fe8cdcd2cee150ec46eeae80c112ef48",
     "grade": false,
     "grade_id": "50",
     "locked": false,
     "solution": true
    }
   },
   "outputs": [
    {
     "name": "stdout",
     "output_type": "stream",
     "text": [
      "Done.\n"
     ]
    },
    {
     "data": {
      "text/html": [
       "<table>\n",
       "    <tr>\n",
       "        <th>tx_type</th>\n",
       "        <th>sum_num</th>\n",
       "    </tr>\n",
       "    <tr>\n",
       "        <td>REN BOAT REGISTRATION</td>\n",
       "        <td>640790</td>\n",
       "    </tr>\n",
       "    <tr>\n",
       "        <td>BOAT REG, NEW</td>\n",
       "        <td>86821</td>\n",
       "    </tr>\n",
       "    <tr>\n",
       "        <td>REN BOAT PONTOON</td>\n",
       "        <td>15556</td>\n",
       "    </tr>\n",
       "    <tr>\n",
       "        <td>RENEW BOAT CANOE</td>\n",
       "        <td>14551</td>\n",
       "    </tr>\n",
       "    <tr>\n",
       "        <td>BOAT, DUPLICATE REGISTRATION</td>\n",
       "        <td>2390</td>\n",
       "    </tr>\n",
       "</table>"
      ],
      "text/plain": [
       "[('REN BOAT REGISTRATION', 640790),\n",
       " ('BOAT REG, NEW', 86821),\n",
       " ('REN BOAT PONTOON', 15556),\n",
       " ('RENEW BOAT CANOE', 14551),\n",
       " ('BOAT, DUPLICATE REGISTRATION', 2390)]"
      ]
     },
     "execution_count": 26,
     "metadata": {},
     "output_type": "execute_result"
    }
   ],
   "source": [
    "%%sql\n",
    "SELECT tx_type, SUM(num) as sum_num\n",
    "FROM boating\n",
    "GROUP BY tx_type\n",
    "ORDER BY sum_num DESC\n",
    "LIMIT 5\n"
   ]
  },
  {
   "cell_type": "code",
   "execution_count": 27,
   "metadata": {
    "collapsed": false,
    "deletable": false,
    "nbgrader": {
     "checksum": "fef967cffe81aae899e1359ce761783f",
     "grade": true,
     "grade_id": "1050",
     "locked": true,
     "points": 1,
     "solution": false
    }
   },
   "outputs": [],
   "source": [
    "df = _.DataFrame()\n",
    "df.rename(columns=lambda x: \"tx_type\" if x == \"tx_type\" else \"sum_num\", inplace=True)\n",
    "assert len(df) == 5\n",
    "assert (df.loc[df['tx_type'] == \"REN BOAT PONTOON\"]['sum_num'] == 15556).all()\n",
    "assert (df.loc[df['tx_type'] == \"REN BOAT REGISTRATION\"]['sum_num'] == 640790).all()\n",
    "assert df['sum_num'].max() == 640790\n",
    "assert df['sum_num'].min() == 2390"
   ]
  },
  {
   "cell_type": "markdown",
   "metadata": {},
   "source": [
    "### Question 6\n",
    "\n",
    "Using `ORDER BY` and `LIMIT` again, what were the top five types of transactions in 2010?"
   ]
  },
  {
   "cell_type": "code",
   "execution_count": 28,
   "metadata": {
    "collapsed": false,
    "deletable": false,
    "nbgrader": {
     "checksum": "7082234b7e890fbcf114407a74083c98",
     "grade": false,
     "grade_id": "60",
     "locked": false,
     "solution": true
    }
   },
   "outputs": [
    {
     "name": "stdout",
     "output_type": "stream",
     "text": [
      "Done.\n"
     ]
    },
    {
     "data": {
      "text/html": [
       "<table>\n",
       "    <tr>\n",
       "        <th>tx_type</th>\n",
       "        <th>num</th>\n",
       "    </tr>\n",
       "    <tr>\n",
       "        <td>REN BOAT REGISTRATION</td>\n",
       "        <td>94005</td>\n",
       "    </tr>\n",
       "    <tr>\n",
       "        <td>BOAT REG, NEW</td>\n",
       "        <td>12569</td>\n",
       "    </tr>\n",
       "    <tr>\n",
       "        <td>RENEW BOAT CANOE</td>\n",
       "        <td>2157</td>\n",
       "    </tr>\n",
       "    <tr>\n",
       "        <td>REN BOAT PONTOON</td>\n",
       "        <td>2118</td>\n",
       "    </tr>\n",
       "    <tr>\n",
       "        <td>BOAT, DUPLICATE REGISTRATION</td>\n",
       "        <td>555</td>\n",
       "    </tr>\n",
       "</table>"
      ],
      "text/plain": [
       "[('REN BOAT REGISTRATION', 94005),\n",
       " ('BOAT REG, NEW', 12569),\n",
       " ('RENEW BOAT CANOE', 2157),\n",
       " ('REN BOAT PONTOON', 2118),\n",
       " ('BOAT, DUPLICATE REGISTRATION', 555)]"
      ]
     },
     "execution_count": 28,
     "metadata": {},
     "output_type": "execute_result"
    }
   ],
   "source": [
    "%%sql\n",
    "SELECT tx_type, SUM(num) as num\n",
    "FROM boating\n",
    "WHERE year='2010'\n",
    "GROUP BY tx_type\n",
    "ORDER BY num DESC\n",
    "LIMIT 5\n"
   ]
  },
  {
   "cell_type": "code",
   "execution_count": 29,
   "metadata": {
    "collapsed": false,
    "deletable": false,
    "nbgrader": {
     "checksum": "19d4b86ffc011268bd98c26683114b2b",
     "grade": true,
     "grade_id": "1060",
     "locked": true,
     "points": 1,
     "solution": false
    }
   },
   "outputs": [],
   "source": [
    "df = _.DataFrame()\n",
    "assert len(df) == 5\n",
    "assert (df.loc[df['tx_type'] == \"REN BOAT PONTOON\"]['num'] == 2118).all()\n",
    "assert (df.loc[df['tx_type'] == \"BOAT REG, NEW\"]['num'] == 12569).all()\n",
    "assert df['num'].max() == 94005\n",
    "assert df['num'].min() == 555"
   ]
  },
  {
   "cell_type": "markdown",
   "metadata": {},
   "source": [
    "### Question 7\n",
    "\n",
    "Use a wildcard search to determine how many transactions in 2012 were renewals."
   ]
  },
  {
   "cell_type": "code",
   "execution_count": 30,
   "metadata": {
    "collapsed": false,
    "deletable": false,
    "nbgrader": {
     "checksum": "a301bc3aa902ec2bc57f4079b9956f81",
     "grade": false,
     "grade_id": "70",
     "locked": false,
     "solution": true
    }
   },
   "outputs": [
    {
     "name": "stdout",
     "output_type": "stream",
     "text": [
      "Done.\n"
     ]
    },
    {
     "data": {
      "text/html": [
       "<table>\n",
       "    <tr>\n",
       "        <th>COUNT(tx_type)</th>\n",
       "    </tr>\n",
       "    <tr>\n",
       "        <td>7</td>\n",
       "    </tr>\n",
       "</table>"
      ],
      "text/plain": [
       "[(7,)]"
      ]
     },
     "execution_count": 30,
     "metadata": {},
     "output_type": "execute_result"
    }
   ],
   "source": [
    "%%sql\n",
    "SELECT COUNT(tx_type)\n",
    "FROM boating\n",
    "WHERE tx_type LIKE \"%renew%\" and year='2012'\n"
   ]
  },
  {
   "cell_type": "code",
   "execution_count": 31,
   "metadata": {
    "collapsed": false,
    "deletable": false,
    "nbgrader": {
     "checksum": "76d6c77ee4eca9bd8ded6d98efdc6578",
     "grade": true,
     "grade_id": "1070",
     "locked": true,
     "points": 1,
     "solution": false
    }
   },
   "outputs": [],
   "source": [
    "df = _.DataFrame()\n",
    "assert df.values[0][0] in [7, 9]"
   ]
  },
  {
   "cell_type": "markdown",
   "metadata": {},
   "source": [
    "### Question 8\n",
    "\n",
    "How many transactions overall involve canoes?"
   ]
  },
  {
   "cell_type": "code",
   "execution_count": 32,
   "metadata": {
    "collapsed": false,
    "deletable": false,
    "nbgrader": {
     "checksum": "f5e45b49fcf5d0597154f486f7e54ff9",
     "grade": false,
     "grade_id": "80",
     "locked": false,
     "solution": true
    }
   },
   "outputs": [
    {
     "name": "stdout",
     "output_type": "stream",
     "text": [
      "Done.\n"
     ]
    },
    {
     "data": {
      "text/html": [
       "<table>\n",
       "    <tr>\n",
       "        <th>COUNT(tx_type)</th>\n",
       "        <th>tx_type</th>\n",
       "    </tr>\n",
       "    <tr>\n",
       "        <td>14</td>\n",
       "        <td>RENEW BOAT CANOE</td>\n",
       "    </tr>\n",
       "</table>"
      ],
      "text/plain": [
       "[(14, 'RENEW BOAT CANOE')]"
      ]
     },
     "execution_count": 32,
     "metadata": {},
     "output_type": "execute_result"
    }
   ],
   "source": [
    "%%sql\n",
    "SELECT COUNT(tx_type),tx_type\n",
    "FROM boating\n",
    "WHERE tx_type LIKE \"%canoe%\""
   ]
  },
  {
   "cell_type": "code",
   "execution_count": 33,
   "metadata": {
    "collapsed": false,
    "deletable": false,
    "nbgrader": {
     "checksum": "91395e1f0262fb552c28b0c319c7d1ca",
     "grade": true,
     "grade_id": "1080",
     "locked": true,
     "points": 1,
     "solution": false
    }
   },
   "outputs": [],
   "source": [
    "df = _.DataFrame()\n",
    "assert df.values[0][0] == 14"
   ]
  },
  {
   "cell_type": "markdown",
   "metadata": {},
   "source": [
    "### Question 9\n",
    "\n"
   ]
  },
  {
   "cell_type": "markdown",
   "metadata": {},
   "source": [
    "How many transactions in 2011 involved a new registration (as opposed to a renewal or change of type)?"
   ]
  },
  {
   "cell_type": "code",
   "execution_count": 34,
   "metadata": {
    "collapsed": false,
    "deletable": false,
    "nbgrader": {
     "checksum": "81fbf1757271a95cb6a16ccb8de11e43",
     "grade": false,
     "grade_id": "90",
     "locked": false,
     "solution": true
    }
   },
   "outputs": [
    {
     "name": "stdout",
     "output_type": "stream",
     "text": [
      "Done.\n"
     ]
    },
    {
     "data": {
      "text/html": [
       "<table>\n",
       "    <tr>\n",
       "        <th>SUM(num)</th>\n",
       "    </tr>\n",
       "    <tr>\n",
       "        <td>12071</td>\n",
       "    </tr>\n",
       "</table>"
      ],
      "text/plain": [
       "[(12071,)]"
      ]
     },
     "execution_count": 34,
     "metadata": {},
     "output_type": "execute_result"
    }
   ],
   "source": [
    "%%sql\n",
    "SELECT SUM(num)\n",
    "FROM boating\n",
    "WHERE year='2011' and tx_type LIKE\"%new\""
   ]
  },
  {
   "cell_type": "code",
   "execution_count": 35,
   "metadata": {
    "collapsed": false,
    "deletable": false,
    "nbgrader": {
     "checksum": "d76b19a231c738df2cd9fc87ad1f5fb2",
     "grade": true,
     "grade_id": "1090",
     "locked": true,
     "points": 1,
     "solution": false
    }
   },
   "outputs": [],
   "source": [
    "df = _.DataFrame()\n",
    "assert df.values[0][0] in [12071, 14466]"
   ]
  },
  {
   "cell_type": "markdown",
   "metadata": {
    "collapsed": false,
    "deletable": false,
    "nbgrader": {
     "checksum": "53b613e4be1e4b918e08abba0712bbbe",
     "grade": true,
     "grade_id": "100",
     "locked": false,
     "points": 1,
     "solution": true
    }
   },
   "source": [
    "### Question 10\n",
    "\n",
    "How do the transaction trends over time involving pontoons compare to overall boating transaction activity?  Discuss as appropriate, adding Markdown cells for your discussion after your exploratory queries."
   ]
  },
  {
   "cell_type": "code",
   "execution_count": 36,
   "metadata": {
    "collapsed": false
   },
   "outputs": [
    {
     "name": "stdout",
     "output_type": "stream",
     "text": [
      "Done.\n"
     ]
    },
    {
     "data": {
      "text/html": [
       "<table>\n",
       "    <tr>\n",
       "        <th>year</th>\n",
       "        <th>Pontoons</th>\n",
       "        <th>Boating</th>\n",
       "    </tr>\n",
       "    <tr>\n",
       "        <td>2008</td>\n",
       "        <td>2283</td>\n",
       "        <td>5500.952380952381</td>\n",
       "    </tr>\n",
       "    <tr>\n",
       "        <td>2009</td>\n",
       "        <td>2350</td>\n",
       "        <td>5390.380952380952</td>\n",
       "    </tr>\n",
       "    <tr>\n",
       "        <td>2010</td>\n",
       "        <td>2410</td>\n",
       "        <td>5349.380952380952</td>\n",
       "    </tr>\n",
       "    <tr>\n",
       "        <td>2011</td>\n",
       "        <td>2495</td>\n",
       "        <td>5236.285714285715</td>\n",
       "    </tr>\n",
       "    <tr>\n",
       "        <td>2012</td>\n",
       "        <td>2658</td>\n",
       "        <td>5380.4</td>\n",
       "    </tr>\n",
       "    <tr>\n",
       "        <td>2013</td>\n",
       "        <td>2781</td>\n",
       "        <td>5268.75</td>\n",
       "    </tr>\n",
       "    <tr>\n",
       "        <td>2014</td>\n",
       "        <td>2820</td>\n",
       "        <td>5179.2</td>\n",
       "    </tr>\n",
       "</table>"
      ],
      "text/plain": [
       "[(2008, 2283, 5500.952380952381),\n",
       " (2009, 2350, 5390.380952380952),\n",
       " (2010, 2410, 5349.380952380952),\n",
       " (2011, 2495, 5236.285714285715),\n",
       " (2012, 2658, 5380.4),\n",
       " (2013, 2781, 5268.75),\n",
       " (2014, 2820, 5179.2)]"
      ]
     },
     "execution_count": 36,
     "metadata": {},
     "output_type": "execute_result"
    }
   ],
   "source": [
    "%%sql\n",
    "SELECT year, Pontoons, Boating\n",
    "FROM (SELECT year, SUM(num) as Pontoons\n",
    "      FROM boating \n",
    "      WHERE tx_type LIKE \"%pontoon%\" \n",
    "      GROUP BY year),(SELECT year as years,AVG(num) as Boating\n",
    "                      FROM boating\n",
    "                      GROUP BY year)\n",
    "WHERE year=years\n"
   ]
  },
  {
   "cell_type": "markdown",
   "metadata": {},
   "source": [
    "From the table above, we can find that the transaction involving Pontoon is increasing over the years. \n",
    "But the overall boating trend is decreasing, though there is an increase in 2012.\n",
    "The increase in Pontoons in 2012 is the greatest one and though the overall boating trend is decreasing, there is still an increase in 2012 for overall boating trend. \n",
    "So, we can make a preliminary conclusion that the boating market is booming in 2012."
   ]
  },
  {
   "cell_type": "markdown",
   "metadata": {},
   "source": [
    "### Bonus (10 points)\n",
    "\n",
    "Make a plot (inline, here, using python) that demonstrates one or more overall trends in boat registrations in Connecticut, drawing data directly from the database."
   ]
  },
  {
   "cell_type": "code",
   "execution_count": 37,
   "metadata": {
    "collapsed": false
   },
   "outputs": [
    {
     "name": "stdout",
     "output_type": "stream",
     "text": [
      "Done.\n"
     ]
    },
    {
     "data": {
      "text/html": [
       "<table>\n",
       "    <tr>\n",
       "        <th>year</th>\n",
       "        <th>num</th>\n",
       "    </tr>\n",
       "    <tr>\n",
       "        <td>2008</td>\n",
       "        <td>19</td>\n",
       "    </tr>\n",
       "    <tr>\n",
       "        <td>2009</td>\n",
       "        <td>3</td>\n",
       "    </tr>\n",
       "    <tr>\n",
       "        <td>2010</td>\n",
       "        <td>19</td>\n",
       "    </tr>\n",
       "    <tr>\n",
       "        <td>2011</td>\n",
       "        <td>27</td>\n",
       "    </tr>\n",
       "    <tr>\n",
       "        <td>2012</td>\n",
       "        <td>48</td>\n",
       "    </tr>\n",
       "    <tr>\n",
       "        <td>2013</td>\n",
       "        <td>21</td>\n",
       "    </tr>\n",
       "    <tr>\n",
       "        <td>2014</td>\n",
       "        <td>22</td>\n",
       "    </tr>\n",
       "</table>"
      ],
      "text/plain": [
       "[(2008, 19),\n",
       " (2009, 3),\n",
       " (2010, 19),\n",
       " (2011, 27),\n",
       " (2012, 48),\n",
       " (2013, 21),\n",
       " (2014, 22)]"
      ]
     },
     "execution_count": 37,
     "metadata": {},
     "output_type": "execute_result"
    }
   ],
   "source": [
    "%%sql\n",
    "SELECT year, num\n",
    "FROM boating\n",
    "WHERE tx_type LIKE \"%CONNECTICUT%\" and tx_type LIKE \"%REG%\"\n",
    "GROUP BY year"
   ]
  },
  {
   "cell_type": "code",
   "execution_count": 38,
   "metadata": {
    "collapsed": false
   },
   "outputs": [
    {
     "data": {
      "text/plain": [
       "<Container object of 7 artists>"
      ]
     },
     "execution_count": 38,
     "metadata": {},
     "output_type": "execute_result"
    },
    {
     "data": {
      "image/png": "[encoded data removed]",
      "text/plain": [
       "<matplotlib.figure.Figure at 0x7f5772eee4a8>"
      ]
     },
     "metadata": {},
     "output_type": "display_data"
    }
   ],
   "source": [
    "%matplotlib inline\n",
    "result=_\n",
    "result.bar()"
   ]
  }
 ],
 "metadata": {
  "anaconda-cloud": {},
  "kernelspec": {
   "display_name": "Python 3",
   "language": "python",
   "name": "python3"
  },
  "language_info": {
   "codemirror_mode": {
    "name": "ipython",
    "version": 3
   },
   "file_extension": ".py",
   "mimetype": "text/x-python",
   "name": "python",
   "nbconvert_exporter": "python",
   "pygments_lexer": "ipython3",
   "version": "3.5.2"
  }
 },
 "nbformat": 4,
 "nbformat_minor": 0
}
